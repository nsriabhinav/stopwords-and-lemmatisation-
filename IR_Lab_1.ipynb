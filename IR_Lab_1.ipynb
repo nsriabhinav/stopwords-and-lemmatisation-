{
  "cells": [
    {
      "cell_type": "code",
      "execution_count": null,
      "metadata": {
        "id": "yHTyuWIeukRv"
      },
      "outputs": [],
      "source": [
        "import pandas as pd\n",
        "import numpy as np\n",
        "from sklearn.preprocessing import LabelEncoder\n",
        "import nltk\n",
        "from nltk.corpus import stopwords\n",
        "import re\n",
        "from sklearn.feature_extraction.text import CountVectorizer\n",
        "from nltk.stem import PorterStemmer\n",
        "from tqdm import tqdm"
      ]
    },
    {
      "cell_type": "code",
      "execution_count": null,
      "metadata": {
        "colab": {
          "base_uri": "https://localhost:8080/"
        },
        "id": "nG3g0m0CwCLK",
        "outputId": "a8e562f7-7ddd-499e-de18-6bec4de54dbf"
      },
      "outputs": [
        {
          "name": "stdout",
          "output_type": "stream",
          "text": [
            "[nltk_data] Downloading package punkt to /root/nltk_data...\n",
            "[nltk_data]   Unzipping tokenizers/punkt.zip.\n",
            "[nltk_data] Downloading package wordnet to /root/nltk_data...\n",
            "[nltk_data]   Unzipping corpora/wordnet.zip.\n",
            "[nltk_data] Downloading package stopwords to /root/nltk_data...\n",
            "[nltk_data]   Unzipping corpora/stopwords.zip.\n"
          ]
        },
        {
          "data": {
            "text/plain": [
              "True"
            ]
          },
          "execution_count": 4,
          "metadata": {},
          "output_type": "execute_result"
        }
      ],
      "source": [
        "nltk.download('punkt')\n",
        "nltk.download('wordnet')\n",
        "nltk.download('stopwords')"
      ]
    },
    {
      "cell_type": "code",
      "execution_count": null,
      "metadata": {
        "id": "sU78S2wEuJNl"
      },
      "outputs": [],
      "source": [
        "text = '''William Shakespeare was an English poet and playwright who is considered one of the greatest writers to ever use the English language. He is also the most famous playwright in the world, with his plays being translated in over 50 languages and performed across the globe for audiences of all ages. Known colloquially as \"The Bard\" or \"The Bard of Avon,\" Shakespeare was also an actor and the creator of the Globe Theatre, a historical theatre, and company that is visited by hundreds of thousands of tourists every year.\n",
        "His works span tragedy, comedy, and historical works, both in poetry and prose. And although the man is the most-recognized playwright in the world, very little of his life is actually known. No known autobiographical letters or diaries have survived to modern day, and with no surviving descendants, Shakespeare is a figure both of magnificent genius and mystery. \n",
        "'''"
      ]
    },
    {
      "cell_type": "markdown",
      "metadata": {
        "id": "wFxA9kpnzNNF"
      },
      "source": [
        "### Sentence Splitting"
      ]
    },
    {
      "cell_type": "code",
      "execution_count": null,
      "metadata": {
        "colab": {
          "base_uri": "https://localhost:8080/"
        },
        "id": "LSjyAM3WvSaY",
        "outputId": "7657aba3-7d12-4f7d-947c-38eb357fe152"
      },
      "outputs": [
        {
          "name": "stdout",
          "output_type": "stream",
          "text": [
            "['Gregor Samsa wakes up one morning to find himself transformed into a \"monstrous vermin\".', 'He initially considers the transformation to be temporary and slowly ponders the consequences of this metamorphosis.', 'Stuck on his back and unable to get up and leave the bed, Gregor reflects on his job as a traveling salesman and cloth merchant, which he characterizes as being full of \"temporary and constantly changing human relationships, which never come from the heart\".', \"He sees his employer as a despot and would quickly quit his job if he were not his family's sole breadwinner and working off his bankrupt father's debts.\", \"While trying to move Gregor finds that his office manager, the chief clerk, has shown up to check on him, indignant about Gregor's unexcused absence.\"]\n"
          ]
        }
      ],
      "source": [
        "from nltk import sent_tokenize\n",
        "\n",
        "sentences = sent_tokenize(text)\n",
        "print(sentences[:5])"
      ]
    },
    {
      "cell_type": "markdown",
      "metadata": {
        "id": "VbwMeoqQzQuO"
      },
      "source": [
        "### Tokenization"
      ]
    },
    {
      "cell_type": "code",
      "execution_count": null,
      "metadata": {
        "colab": {
          "base_uri": "https://localhost:8080/"
        },
        "id": "mxCxTcHdwO6e",
        "outputId": "284c5ff4-3205-4226-ee97-0eb29393a862"
      },
      "outputs": [
        {
          "name": "stdout",
          "output_type": "stream",
          "text": [
            "[['Gregor', 'Samsa', 'wakes', 'up', 'one', 'morning', 'to', 'find', 'himself', 'transformed', 'into', 'a', '\"monstrous', 'vermin\".'], ['He', 'initially', 'considers', 'the', 'transformation', 'to', 'be', 'temporary', 'and', 'slowly', 'ponders', 'the', 'consequences', 'of', 'this', 'metamorphosis.']]\n"
          ]
        }
      ],
      "source": [
        "words = [0]*len(sentences)\n",
        "for ind,sentence in enumerate(sentences):\n",
        "    w = sentence.split()\n",
        "    words[ind] = w\n",
        "print(words[:2])"
      ]
    },
    {
      "cell_type": "markdown",
      "metadata": {
        "id": "zd6C4U7qzSvV"
      },
      "source": [
        "### Removing Punctuations"
      ]
    },
    {
      "cell_type": "code",
      "execution_count": null,
      "metadata": {
        "colab": {
          "base_uri": "https://localhost:8080/"
        },
        "id": "uaafn3oGzD9W",
        "outputId": "0d14b587-7c16-4443-91d9-77df70b4a540"
      },
      "outputs": [
        {
          "data": {
            "text/plain": [
              "[['Gregor',\n",
              "  'Samsa',\n",
              "  'wakes',\n",
              "  'up',\n",
              "  'one',\n",
              "  'morning',\n",
              "  'to',\n",
              "  'find',\n",
              "  'himself',\n",
              "  'transformed',\n",
              "  'into',\n",
              "  'a',\n",
              "  'monstrous',\n",
              "  'vermin'],\n",
              " ['He',\n",
              "  'initially',\n",
              "  'considers',\n",
              "  'the',\n",
              "  'transformation',\n",
              "  'to',\n",
              "  'be',\n",
              "  'temporary',\n",
              "  'and',\n",
              "  'slowly',\n",
              "  'ponders',\n",
              "  'the',\n",
              "  'consequences',\n",
              "  'of',\n",
              "  'this',\n",
              "  'metamorphosis']]"
            ]
          },
          "execution_count": 8,
          "metadata": {},
          "output_type": "execute_result"
        }
      ],
      "source": [
        "new_words = []\n",
        "for word in words:\n",
        "    temp = []\n",
        "    for w in word:\n",
        "        temp_word = re.sub(r'[^\\w\\s]', '', w)\n",
        "        if temp != '':\n",
        "            temp.append(temp_word)\n",
        "    new_words.append(temp)\n",
        "new_words[:2]"
      ]
    },
    {
      "cell_type": "markdown",
      "metadata": {
        "id": "H-E0_2P006Zn"
      },
      "source": [
        "### Stop Word Removal"
      ]
    },
    {
      "cell_type": "code",
      "execution_count": null,
      "metadata": {
        "colab": {
          "base_uri": "https://localhost:8080/"
        },
        "id": "0wTGhfhJ1AbW",
        "outputId": "7c464408-b2ff-4efa-d4a9-e79c751e7c6b"
      },
      "outputs": [
        {
          "data": {
            "text/plain": [
              "[['Gregor',\n",
              "  'Samsa',\n",
              "  'wakes',\n",
              "  'one',\n",
              "  'morning',\n",
              "  'find',\n",
              "  'transformed',\n",
              "  'monstrous',\n",
              "  'vermin'],\n",
              " ['He',\n",
              "  'initially',\n",
              "  'considers',\n",
              "  'transformation',\n",
              "  'temporary',\n",
              "  'slowly',\n",
              "  'ponders',\n",
              "  'consequences',\n",
              "  'metamorphosis']]"
            ]
          },
          "execution_count": 9,
          "metadata": {},
          "output_type": "execute_result"
        }
      ],
      "source": [
        "stop_words = set(stopwords.words('english'))\n",
        "stop_removed_arr = list()\n",
        "for word in new_words:\n",
        "    stop_removed_arr.append([w for w in word if not w in stop_words])\n",
        "words = stop_removed_arr\n",
        "words[:2]"
      ]
    },
    {
      "cell_type": "markdown",
      "metadata": {
        "id": "PB9mYrS62ZL3"
      },
      "source": [
        "### Lower Casing"
      ]
    },
    {
      "cell_type": "code",
      "execution_count": null,
      "metadata": {
        "colab": {
          "base_uri": "https://localhost:8080/"
        },
        "id": "giGyFnb02dM-",
        "outputId": "59f92600-e57d-43a2-c5cc-716fd8afe5aa"
      },
      "outputs": [
        {
          "data": {
            "text/plain": [
              "[['gregor',\n",
              "  'samsa',\n",
              "  'wakes',\n",
              "  'one',\n",
              "  'morning',\n",
              "  'find',\n",
              "  'transformed',\n",
              "  'monstrous',\n",
              "  'vermin'],\n",
              " ['he',\n",
              "  'initially',\n",
              "  'considers',\n",
              "  'transformation',\n",
              "  'temporary',\n",
              "  'slowly',\n",
              "  'ponders',\n",
              "  'consequences',\n",
              "  'metamorphosis'],\n",
              " ['stuck',\n",
              "  'back',\n",
              "  'unable',\n",
              "  'get',\n",
              "  'leave',\n",
              "  'bed',\n",
              "  'gregor',\n",
              "  'reflects',\n",
              "  'job',\n",
              "  'traveling',\n",
              "  'salesman',\n",
              "  'cloth',\n",
              "  'merchant',\n",
              "  'characterizes',\n",
              "  'full',\n",
              "  'temporary',\n",
              "  'constantly',\n",
              "  'changing',\n",
              "  'human',\n",
              "  'relationships',\n",
              "  'never',\n",
              "  'come',\n",
              "  'heart'],\n",
              " ['he',\n",
              "  'sees',\n",
              "  'employer',\n",
              "  'despot',\n",
              "  'would',\n",
              "  'quickly',\n",
              "  'quit',\n",
              "  'job',\n",
              "  'familys',\n",
              "  'sole',\n",
              "  'breadwinner',\n",
              "  'working',\n",
              "  'bankrupt',\n",
              "  'fathers',\n",
              "  'debts'],\n",
              " ['while',\n",
              "  'trying',\n",
              "  'move',\n",
              "  'gregor',\n",
              "  'finds',\n",
              "  'office',\n",
              "  'manager',\n",
              "  'chief',\n",
              "  'clerk',\n",
              "  'shown',\n",
              "  'check',\n",
              "  'indignant',\n",
              "  'gregors',\n",
              "  'unexcused',\n",
              "  'absence'],\n",
              " ['gregor',\n",
              "  'attempts',\n",
              "  'communicate',\n",
              "  'manager',\n",
              "  'family',\n",
              "  'hear',\n",
              "  'behind',\n",
              "  'door',\n",
              "  'incomprehensible',\n",
              "  'vocalizations'],\n",
              " ['gregor', 'laboriously', 'drags', 'across', 'floor', 'opens', 'door'],\n",
              " ['the',\n",
              "  'clerk',\n",
              "  'upon',\n",
              "  'seeing',\n",
              "  'transformed',\n",
              "  'gregor',\n",
              "  'flees',\n",
              "  'apartment'],\n",
              " ['gregors',\n",
              "  'family',\n",
              "  'horrified',\n",
              "  'father',\n",
              "  'drives',\n",
              "  'back',\n",
              "  'room',\n",
              "  'injuring',\n",
              "  'side',\n",
              "  'shoving',\n",
              "  'gets',\n",
              "  'stuck',\n",
              "  'doorway']]"
            ]
          },
          "execution_count": 10,
          "metadata": {},
          "output_type": "execute_result"
        }
      ],
      "source": [
        "temp = list()\n",
        "for word in words:\n",
        "    temp.append([w.lower() for w in word])\n",
        "words = temp\n",
        "words"
      ]
    },
    {
      "cell_type": "markdown",
      "metadata": {
        "id": "rypibIGE6z_Q"
      },
      "source": [
        "### Lemmatization"
      ]
    },
    {
      "cell_type": "code",
      "execution_count": null,
      "metadata": {
        "colab": {
          "base_uri": "https://localhost:8080/"
        },
        "id": "9KT-Wg0O612U",
        "outputId": "275aac63-a3ea-42ce-a957-1230c340b6d4"
      },
      "outputs": [
        {
          "data": {
            "text/plain": [
              "[['gregor',\n",
              "  'samsa',\n",
              "  'wake',\n",
              "  'one',\n",
              "  'morning',\n",
              "  'find',\n",
              "  'transformed',\n",
              "  'monstrous',\n",
              "  'vermin'],\n",
              " ['he',\n",
              "  'initially',\n",
              "  'considers',\n",
              "  'transformation',\n",
              "  'temporary',\n",
              "  'slowly',\n",
              "  'ponders',\n",
              "  'consequence',\n",
              "  'metamorphosis'],\n",
              " ['stuck',\n",
              "  'back',\n",
              "  'unable',\n",
              "  'get',\n",
              "  'leave',\n",
              "  'bed',\n",
              "  'gregor',\n",
              "  'reflects',\n",
              "  'job',\n",
              "  'traveling',\n",
              "  'salesman',\n",
              "  'cloth',\n",
              "  'merchant',\n",
              "  'characterizes',\n",
              "  'full',\n",
              "  'temporary',\n",
              "  'constantly',\n",
              "  'changing',\n",
              "  'human',\n",
              "  'relationship',\n",
              "  'never',\n",
              "  'come',\n",
              "  'heart'],\n",
              " ['he',\n",
              "  'see',\n",
              "  'employer',\n",
              "  'despot',\n",
              "  'would',\n",
              "  'quickly',\n",
              "  'quit',\n",
              "  'job',\n",
              "  'family',\n",
              "  'sole',\n",
              "  'breadwinner',\n",
              "  'working',\n",
              "  'bankrupt',\n",
              "  'father',\n",
              "  'debt'],\n",
              " ['while',\n",
              "  'trying',\n",
              "  'move',\n",
              "  'gregor',\n",
              "  'find',\n",
              "  'office',\n",
              "  'manager',\n",
              "  'chief',\n",
              "  'clerk',\n",
              "  'shown',\n",
              "  'check',\n",
              "  'indignant',\n",
              "  'gregors',\n",
              "  'unexcused',\n",
              "  'absence'],\n",
              " ['gregor',\n",
              "  'attempt',\n",
              "  'communicate',\n",
              "  'manager',\n",
              "  'family',\n",
              "  'hear',\n",
              "  'behind',\n",
              "  'door',\n",
              "  'incomprehensible',\n",
              "  'vocalization'],\n",
              " ['gregor', 'laboriously', 'drag', 'across', 'floor', 'open', 'door'],\n",
              " ['the',\n",
              "  'clerk',\n",
              "  'upon',\n",
              "  'seeing',\n",
              "  'transformed',\n",
              "  'gregor',\n",
              "  'flees',\n",
              "  'apartment'],\n",
              " ['gregors',\n",
              "  'family',\n",
              "  'horrified',\n",
              "  'father',\n",
              "  'drive',\n",
              "  'back',\n",
              "  'room',\n",
              "  'injuring',\n",
              "  'side',\n",
              "  'shoving',\n",
              "  'get',\n",
              "  'stuck',\n",
              "  'doorway']]"
            ]
          },
          "execution_count": 11,
          "metadata": {},
          "output_type": "execute_result"
        }
      ],
      "source": [
        "from nltk.stem import WordNetLemmatizer\n",
        "\n",
        "wordnet_lemmatizer = WordNetLemmatizer()\n",
        "lemmatized_word = list()\n",
        "for word in words:\n",
        "    lemmatized_word.append([wordnet_lemmatizer.lemmatize(w) for w in word])\n",
        "words = lemmatized_word\n",
        "words"
      ]
    },
    {
      "cell_type": "markdown",
      "metadata": {
        "id": "zSv7JCKq3eKl"
      },
      "source": [
        "### Stemming"
      ]
    },
    {
      "cell_type": "code",
      "execution_count": null,
      "metadata": {
        "colab": {
          "base_uri": "https://localhost:8080/"
        },
        "id": "3J416Prh3diA",
        "outputId": "c0395430-807b-4a48-a447-bcea7a5e27ca"
      },
      "outputs": [
        {
          "data": {
            "text/plain": [
              "[['gregor',\n",
              "  'samsa',\n",
              "  'wake',\n",
              "  'one',\n",
              "  'morn',\n",
              "  'find',\n",
              "  'transform',\n",
              "  'monstrou',\n",
              "  'vermin'],\n",
              " ['he',\n",
              "  'initi',\n",
              "  'consid',\n",
              "  'transform',\n",
              "  'temporari',\n",
              "  'slowli',\n",
              "  'ponder',\n",
              "  'consequ',\n",
              "  'metamorphosi'],\n",
              " ['stuck',\n",
              "  'back',\n",
              "  'unabl',\n",
              "  'get',\n",
              "  'leav',\n",
              "  'bed',\n",
              "  'gregor',\n",
              "  'reflect',\n",
              "  'job',\n",
              "  'travel',\n",
              "  'salesman',\n",
              "  'cloth',\n",
              "  'merchant',\n",
              "  'character',\n",
              "  'full',\n",
              "  'temporari',\n",
              "  'constantli',\n",
              "  'chang',\n",
              "  'human',\n",
              "  'relationship',\n",
              "  'never',\n",
              "  'come',\n",
              "  'heart'],\n",
              " ['he',\n",
              "  'see',\n",
              "  'employ',\n",
              "  'despot',\n",
              "  'would',\n",
              "  'quickli',\n",
              "  'quit',\n",
              "  'job',\n",
              "  'famili',\n",
              "  'sole',\n",
              "  'breadwinn',\n",
              "  'work',\n",
              "  'bankrupt',\n",
              "  'father',\n",
              "  'debt'],\n",
              " ['while',\n",
              "  'tri',\n",
              "  'move',\n",
              "  'gregor',\n",
              "  'find',\n",
              "  'offic',\n",
              "  'manag',\n",
              "  'chief',\n",
              "  'clerk',\n",
              "  'shown',\n",
              "  'check',\n",
              "  'indign',\n",
              "  'gregor',\n",
              "  'unexcus',\n",
              "  'absenc'],\n",
              " ['gregor',\n",
              "  'attempt',\n",
              "  'commun',\n",
              "  'manag',\n",
              "  'famili',\n",
              "  'hear',\n",
              "  'behind',\n",
              "  'door',\n",
              "  'incomprehens',\n",
              "  'vocal'],\n",
              " ['gregor', 'labori', 'drag', 'across', 'floor', 'open', 'door'],\n",
              " ['the', 'clerk', 'upon', 'see', 'transform', 'gregor', 'flee', 'apart'],\n",
              " ['gregor',\n",
              "  'famili',\n",
              "  'horrifi',\n",
              "  'father',\n",
              "  'drive',\n",
              "  'back',\n",
              "  'room',\n",
              "  'injur',\n",
              "  'side',\n",
              "  'shove',\n",
              "  'get',\n",
              "  'stuck',\n",
              "  'doorway']]"
            ]
          },
          "execution_count": 12,
          "metadata": {},
          "output_type": "execute_result"
        }
      ],
      "source": [
        "from nltk.stem.porter import PorterStemmer\n",
        "\n",
        "stemmed = list()\n",
        "porter = PorterStemmer()\n",
        "for word in words:\n",
        "    stemmed.append([porter.stem(w) for w in word])\n",
        "words = stemmed\n",
        "words"
      ]
    },
    {
      "cell_type": "markdown",
      "metadata": {
        "id": "MsMGcUUu4hDI"
      },
      "source": [
        "### Inverted Index"
      ]
    },
    {
      "cell_type": "code",
      "execution_count": null,
      "metadata": {
        "colab": {
          "base_uri": "https://localhost:8080/"
        },
        "id": "HFei7W754k9d",
        "outputId": "ddebd516-7d2d-4102-f842-54ca786460dd"
      },
      "outputs": [
        {
          "data": {
            "text/plain": [
              "{('absenc', 1): [4],\n",
              " ('across', 1): [6],\n",
              " ('apart', 1): [7],\n",
              " ('attempt', 1): [5],\n",
              " ('back', 2): [2, 8],\n",
              " ('bankrupt', 1): [3],\n",
              " ('bed', 1): [2],\n",
              " ('behind', 1): [5],\n",
              " ('breadwinn', 1): [3],\n",
              " ('chang', 1): [2],\n",
              " ('character', 1): [2],\n",
              " ('check', 1): [4],\n",
              " ('chief', 1): [4],\n",
              " ('clerk', 2): [4, 7],\n",
              " ('cloth', 1): [2],\n",
              " ('come', 1): [2],\n",
              " ('commun', 1): [5],\n",
              " ('consequ', 1): [1],\n",
              " ('consid', 1): [1],\n",
              " ('constantli', 1): [2],\n",
              " ('debt', 1): [3],\n",
              " ('despot', 1): [3],\n",
              " ('door', 2): [5, 6],\n",
              " ('doorway', 1): [8],\n",
              " ('drag', 1): [6],\n",
              " ('drive', 1): [8],\n",
              " ('employ', 1): [3],\n",
              " ('famili', 3): [3, 5, 8],\n",
              " ('father', 2): [3, 8],\n",
              " ('find', 2): [0, 4],\n",
              " ('flee', 1): [7],\n",
              " ('floor', 1): [6],\n",
              " ('full', 1): [2],\n",
              " ('get', 2): [2, 8],\n",
              " ('gregor', 8): [0, 2, 4, 4, 5, 6, 7, 8],\n",
              " ('he', 2): [1, 3],\n",
              " ('hear', 1): [5],\n",
              " ('heart', 1): [2],\n",
              " ('horrifi', 1): [8],\n",
              " ('human', 1): [2],\n",
              " ('incomprehens', 1): [5],\n",
              " ('indign', 1): [4],\n",
              " ('initi', 1): [1],\n",
              " ('injur', 1): [8],\n",
              " ('job', 2): [2, 3],\n",
              " ('labori', 1): [6],\n",
              " ('leav', 1): [2],\n",
              " ('manag', 2): [4, 5],\n",
              " ('merchant', 1): [2],\n",
              " ('metamorphosi', 1): [1],\n",
              " ('monstrou', 1): [0],\n",
              " ('morn', 1): [0],\n",
              " ('move', 1): [4],\n",
              " ('never', 1): [2],\n",
              " ('offic', 1): [4],\n",
              " ('one', 1): [0],\n",
              " ('open', 1): [6],\n",
              " ('ponder', 1): [1],\n",
              " ('quickli', 1): [3],\n",
              " ('quit', 1): [3],\n",
              " ('reflect', 1): [2],\n",
              " ('relationship', 1): [2],\n",
              " ('room', 1): [8],\n",
              " ('salesman', 1): [2],\n",
              " ('samsa', 1): [0],\n",
              " ('see', 2): [3, 7],\n",
              " ('shove', 1): [8],\n",
              " ('shown', 1): [4],\n",
              " ('side', 1): [8],\n",
              " ('slowli', 1): [1],\n",
              " ('sole', 1): [3],\n",
              " ('stuck', 2): [2, 8],\n",
              " ('temporari', 2): [1, 2],\n",
              " ('the', 1): [7],\n",
              " ('transform', 3): [0, 1, 7],\n",
              " ('travel', 1): [2],\n",
              " ('tri', 1): [4],\n",
              " ('unabl', 1): [2],\n",
              " ('unexcus', 1): [4],\n",
              " ('upon', 1): [7],\n",
              " ('vermin', 1): [0],\n",
              " ('vocal', 1): [5],\n",
              " ('wake', 1): [0],\n",
              " ('while', 1): [4],\n",
              " ('work', 1): [3],\n",
              " ('would', 1): [3]}"
            ]
          },
          "execution_count": 13,
          "metadata": {},
          "output_type": "execute_result"
        }
      ],
      "source": [
        "inverted_index_temp = dict()\n",
        "inverted_index = dict()\n",
        "for id,word in enumerate(words):\n",
        "    for  w in word:\n",
        "        if w not in inverted_index_temp.keys():\n",
        "            inverted_index_temp[w] = [id]\n",
        "        else:\n",
        "            inverted_index_temp[w].append(id)\n",
        "\n",
        "for key in inverted_index_temp.keys():\n",
        "    k = (key,len(inverted_index_temp[key]))\n",
        "    inverted_index[k] = inverted_index_temp[key]\n",
        "inverted_index"
      ]
    }
  ],
  "metadata": {
    "colab": {
      "collapsed_sections": [],
      "name": "IR-Lab-1",
      "provenance": []
    },
    "kernelspec": {
      "display_name": "Python 3",
      "name": "python3"
    },
    "language_info": {
      "name": "python",
      "version": "3.10.2"
    }
  },
  "nbformat": 4,
  "nbformat_minor": 0
}
